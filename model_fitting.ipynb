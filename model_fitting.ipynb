{
 "cells": [
  {
   "cell_type": "markdown",
   "id": "5c2132d8-4d21-40f7-8bcb-1413c6b5f2f6",
   "metadata": {},
   "source": [
    "# Тестовое задание для компании SCID\n",
    "## Описание задачи\n",
    "1. Извлечение текста из PDF-документов:\n",
    "   - Используя библиотеку PyPDF2, pdfminer или PyMuPDF, реализовать функцию, которая принимает на вход путь к PDF-файлу и возвращает извлеченный текст.\n",
    "\n",
    "2. Предобработка текста:\n",
    "   - Реализовать функцию для предобработки извлеченного текста. Включить в нее следующие шаги:\n",
    "     - Удаление специальных символов и лишних пробелов.\n",
    "     - Токенизация текста (разделение на слова).\n",
    "\n",
    "3. Обучение модели:\n",
    "   - С использованием библиотеки Keras или PyTorch создать простую нейронную сеть для классификации текста. Для обучения использовать набор данных, содержащий тексты и соответствующие метки (например, категории документов). В работе будет использован датасет 20 Newsgroups.\n",
    "\n",
    "4. Интерфейс для пользователя:\n",
    "   - Реализовать простой интерфейс командной строки или веб-интерфейс с использованием Flask, который позволит пользователю загрузить PDF-документ и получить предсказанную категорию документа.\n",
    "\n",
    "5. Документация:\n",
    "   - Подготовить к проекту документацию, описывающую структуру кода, инструкции по установке и запуску, а также примеры использования.\n",
    "\n",
    "Дополнительные требования:\n",
    "- Используйте Git для контроля версий вашего проекта.\n",
    "- Напишите тесты для ключевых функций вашего кода.\n",
    "- Обратите внимание на обработку ошибок (например, что происходит при загрузке некорректного PDF)."
   ]
  },
  {
   "cell_type": "markdown",
   "id": "8fcc703f-cf3c-4347-8362-8d7e40ba49d3",
   "metadata": {},
   "source": [
    "## Import dependencies"
   ]
  },
  {
   "cell_type": "code",
   "execution_count": 1,
   "id": "6fca23e5-65a6-46e8-a225-9959a94df67a",
   "metadata": {},
   "outputs": [],
   "source": [
    "import numpy as np\n",
    "import fitz\n",
    "import re\n",
    "import nltk\n",
    "import joblib\n",
    "import json\n",
    "from sklearn.feature_extraction.text import TfidfVectorizer\n",
    "from sklearn.datasets import fetch_20newsgroups\n",
    "from sklearn.model_selection import train_test_split\n",
    "from tensorflow import keras\n",
    "from tensorflow.keras.optimizers import Adam\n",
    "from tensorflow.keras.layers import Dense\n",
    "from tensorflow.keras.models import Sequential\n",
    "from tensorflow.keras import regularizers"
   ]
  },
  {
   "cell_type": "code",
   "execution_count": 2,
   "id": "dbace424-a857-42b1-b014-af478951b849",
   "metadata": {},
   "outputs": [],
   "source": [
    "# Функция для выделения текста из .pdf\n",
    "def extract_text(path):\n",
    "    text = \"\"\n",
    "    with fitz.open(path) as doc:\n",
    "        for page in doc:\n",
    "            text += page.get_text()\n",
    "    return text"
   ]
  },
  {
   "cell_type": "code",
   "execution_count": 3,
   "id": "4acaed16-0aa3-4b36-8381-50bc8069340a",
   "metadata": {},
   "outputs": [],
   "source": [
    "# Функция для токенизации\n",
    "def tokenize_text(text):\n",
    "    text = re.sub(r'[^\\w\\s]', '', text)\n",
    "    text = re.sub(r'\\s+', ' ', text).strip()\n",
    "    tokens = nltk.word_tokenize(text.lower(), language='english')\n",
    "    return ' '.join(tokens)"
   ]
  },
  {
   "cell_type": "code",
   "execution_count": 5,
   "id": "c59c4a4b-1433-4cf2-b3f6-c26cfcd0cc22",
   "metadata": {},
   "outputs": [],
   "source": [
    "# Загрузка и подготовка данных\n",
    "data = fetch_20newsgroups(subset='all', remove=('headers', 'footers', 'quotes'))\n",
    "texts = data['data']\n",
    "labels = data['target']\n",
    "\n",
    "# Очистка текста от лишних символов\n",
    "texts = [tokenize_text(text) for text in texts]\n",
    "\n",
    "# Разделение на выборки\n",
    "X_train, X_test, y_train, y_test = train_test_split(texts, labels, test_size=0.2, random_state=42)\n",
    "\n",
    "\n",
    "# Векторизация выборок\n",
    "vectorizer = TfidfVectorizer(max_features=5000)\n",
    "X_train_vec = vectorizer.fit_transform(X_train)\n",
    "X_test_vec = vectorizer.transform(X_test)"
   ]
  },
  {
   "cell_type": "code",
   "execution_count": 10,
   "id": "39beb855-3aab-4391-867d-c99630294ed5",
   "metadata": {},
   "outputs": [
    {
     "name": "stdout",
     "output_type": "stream",
     "text": [
      "Epoch 1/5\n",
      "\u001b[1m472/472\u001b[0m \u001b[32m━━━━━━━━━━━━━━━━━━━━\u001b[0m\u001b[37m\u001b[0m \u001b[1m2s\u001b[0m 3ms/step - accuracy: 0.3818 - loss: 2.5648 - val_accuracy: 0.6613 - val_loss: 1.3475\n",
      "Epoch 2/5\n",
      "\u001b[1m472/472\u001b[0m \u001b[32m━━━━━━━━━━━━━━━━━━━━\u001b[0m\u001b[37m\u001b[0m \u001b[1m2s\u001b[0m 3ms/step - accuracy: 0.7593 - loss: 1.0394 - val_accuracy: 0.6809 - val_loss: 1.0841\n",
      "Epoch 3/5\n",
      "\u001b[1m472/472\u001b[0m \u001b[32m━━━━━━━━━━━━━━━━━━━━\u001b[0m\u001b[37m\u001b[0m \u001b[1m2s\u001b[0m 3ms/step - accuracy: 0.8365 - loss: 0.6837 - val_accuracy: 0.6878 - val_loss: 1.0306\n",
      "Epoch 4/5\n",
      "\u001b[1m472/472\u001b[0m \u001b[32m━━━━━━━━━━━━━━━━━━━━\u001b[0m\u001b[37m\u001b[0m \u001b[1m2s\u001b[0m 3ms/step - accuracy: 0.8957 - loss: 0.4802 - val_accuracy: 0.6870 - val_loss: 1.0354\n",
      "Epoch 5/5\n",
      "\u001b[1m472/472\u001b[0m \u001b[32m━━━━━━━━━━━━━━━━━━━━\u001b[0m\u001b[37m\u001b[0m \u001b[1m2s\u001b[0m 3ms/step - accuracy: 0.9260 - loss: 0.3611 - val_accuracy: 0.6822 - val_loss: 1.0645\n"
     ]
    },
    {
     "data": {
      "text/plain": [
       "<keras.src.callbacks.history.History at 0x168b27eb0>"
      ]
     },
     "execution_count": 10,
     "metadata": {},
     "output_type": "execute_result"
    }
   ],
   "source": [
    "# Обучаем модель\n",
    "model = keras.Sequential([\n",
    "    keras.layers.Input(shape=(X_train_vec.shape[1],)),\n",
    "    keras.layers.Dense(128, activation='relu',kernel_regularizer=regularizers.l2(0.0000001)),\n",
    "    keras.layers.Dense(20, activation='softmax')\n",
    "])\n",
    "model.compile(loss='sparse_categorical_crossentropy', optimizer='adam', metrics=['accuracy'])\n",
    "model.fit(X_train_vec.toarray(), y_train, epochs=5, validation_data=(X_test_vec.toarray(), y_test))"
   ]
  },
  {
   "cell_type": "markdown",
   "id": "92d8ceee-9561-4d61-8da9-8067db16acc2",
   "metadata": {},
   "source": [
    "Простая нейросеть с одним скрытым слоем обладает высокой метрикой 0.92 на тренировочной выборке и относительно невысокой метрикой 0.68 на тестовой выборке, что говорит о переобучении модели, но для такой простой модели с таким сроком обучения результат нормальный. Модель вполне можно применять для классификации текстов."
   ]
  },
  {
   "cell_type": "code",
   "execution_count": 16,
   "id": "89d3bdc9-7d28-48b9-be3e-ad5e316e459b",
   "metadata": {},
   "outputs": [],
   "source": [
    "# Сохраняем предобученный векторизатор и модель\n",
    "joblib.dump(vectorizer, 'my_vectorizer.pkl')\n",
    "model.save('my_model.keras')\n",
    "\n",
    "\n",
    "# Нам понадобится файл с сохраненными категориями, поэтому соберем его\n",
    "categories = data.target_names\n",
    "with open('categories.json', 'w', encoding='utf-8') as f:\n",
    "    json.dump(categories, f, ensure_ascii=False, indent=2)"
   ]
  }
 ],
 "metadata": {
  "kernelspec": {
   "display_name": "Python 3 (ipykernel)",
   "language": "python",
   "name": "python3"
  },
  "language_info": {
   "codemirror_mode": {
    "name": "ipython",
    "version": 3
   },
   "file_extension": ".py",
   "mimetype": "text/x-python",
   "name": "python",
   "nbconvert_exporter": "python",
   "pygments_lexer": "ipython3",
   "version": "3.10.16"
  }
 },
 "nbformat": 4,
 "nbformat_minor": 5
}
