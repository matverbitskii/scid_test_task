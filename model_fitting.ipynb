{
 "cells": [
  {
   "cell_type": "markdown",
   "id": "5c2132d8-4d21-40f7-8bcb-1413c6b5f2f6",
   "metadata": {},
   "source": [
    "# Определение тематики новости с помощью простой нейросети\n",
    "## Описание задачи\n",
    "1. Извлечение текста из PDF-документов:\n",
    "   - Используя библиотеку PyPDF2, pdfminer или PyMuPDF, реализовать функцию, которая принимает на вход путь к PDF-файлу и возвращает извлеченный текст.\n",
    "\n",
    "2. Предобработка текста:\n",
    "   - Реализовать функцию для предобработки извлеченного текста. Включить в нее следующие шаги:\n",
    "     - Удаление специальных символов и лишних пробелов.\n",
    "     - Токенизация текста (разделение на слова).\n",
    "\n",
    "3. Обучение модели:\n",
    "   - С использованием библиотеки Keras или PyTorch создать простую нейронную сеть для классификации текста. Для обучения использовать набор данных, содержащий тексты и соответствующие метки (например, категории документов). В работе будет использован датасет 20 Newsgroups.\n",
    "\n",
    "4. Интерфейс для пользователя:\n",
    "   - Реализовать простой интерфейс командной строки или веб-интерфейс с использованием Flask, который позволит пользователю загрузить PDF-документ и получить предсказанную категорию документа.\n",
    "\n",
    "5. Документация:\n",
    "   - Подготовить к проекту документацию, описывающую структуру кода, инструкции по установке и запуску, а также примеры использования.\n",
    "\n",
    "Дополнительные требования:\n",
    "- Используйте Git для контроля версий вашего проекта.\n",
    "- Напишите тесты для ключевых функций вашего кода.\n",
    "- Обратите внимание на обработку ошибок (например, что происходит при загрузке некорректного PDF)."
   ]
  },
  {
   "cell_type": "markdown",
   "id": "8fcc703f-cf3c-4347-8362-8d7e40ba49d3",
   "metadata": {},
   "source": [
    "## Import dependencies"
   ]
  },
  {
   "cell_type": "code",
   "execution_count": 1,
   "id": "6fca23e5-65a6-46e8-a225-9959a94df67a",
   "metadata": {},
   "outputs": [],
   "source": [
    "import numpy as np\n",
    "import fitz\n",
    "import re\n",
    "import nltk\n",
    "import joblib\n",
    "import json\n",
    "from sklearn.feature_extraction.text import TfidfVectorizer\n",
    "from sklearn.datasets import fetch_20newsgroups\n",
    "from sklearn.model_selection import train_test_split\n",
    "from sklearn.metrics import classification_report\n",
    "from tensorflow import keras\n",
    "from tensorflow.keras.optimizers import Adam\n",
    "from tensorflow.keras.layers import Dense\n",
    "from tensorflow.keras.models import Sequential\n",
    "from tensorflow.keras import regularizers\n",
    "from tensorflow.keras.callbacks import EarlyStopping"
   ]
  },
  {
   "cell_type": "code",
   "execution_count": 2,
   "id": "dbace424-a857-42b1-b014-af478951b849",
   "metadata": {},
   "outputs": [],
   "source": [
    "# Функция для выделения текста из .pdf\n",
    "def extract_text(path):\n",
    "    text = \"\"\n",
    "    with fitz.open(path) as doc:\n",
    "        for page in doc:\n",
    "            text += page.get_text()\n",
    "    return text"
   ]
  },
  {
   "cell_type": "code",
   "execution_count": 3,
   "id": "4acaed16-0aa3-4b36-8381-50bc8069340a",
   "metadata": {},
   "outputs": [],
   "source": [
    "# Функция для токенизации\n",
    "def tokenize_text(text):\n",
    "    text = re.sub(r'[^\\w\\s]', '', text)\n",
    "    text = re.sub(r'\\s+', ' ', text).strip()\n",
    "    tokens = nltk.word_tokenize(text.lower(), language='english')\n",
    "    return ' '.join(tokens)"
   ]
  },
  {
   "cell_type": "code",
   "execution_count": 4,
   "id": "c59c4a4b-1433-4cf2-b3f6-c26cfcd0cc22",
   "metadata": {},
   "outputs": [],
   "source": [
    "# Загрузка и подготовка данных\n",
    "data = fetch_20newsgroups(subset='all', remove=('headers', 'footers', 'quotes'))\n",
    "texts = data['data']\n",
    "labels = data['target']\n",
    "\n",
    "# Очистка текста от лишних символов\n",
    "texts = [tokenize_text(text) for text in texts]\n",
    "\n",
    "# Разделение на выборки\n",
    "X_train, X_test, y_train, y_test = train_test_split(texts, labels, test_size=0.2, random_state=42, stratify=labels)\n",
    "\n",
    "\n",
    "# Векторизация выборок\n",
    "vectorizer = TfidfVectorizer(max_features=15000)\n",
    "X_train_vec = vectorizer.fit_transform(X_train)\n",
    "X_test_vec = vectorizer.transform(X_test)"
   ]
  },
  {
   "cell_type": "code",
   "execution_count": 5,
   "id": "39beb855-3aab-4391-867d-c99630294ed5",
   "metadata": {},
   "outputs": [
    {
     "name": "stdout",
     "output_type": "stream",
     "text": [
      "Epoch 1/30\n",
      "\u001b[1m472/472\u001b[0m \u001b[32m━━━━━━━━━━━━━━━━━━━━\u001b[0m\u001b[37m\u001b[0m \u001b[1m2s\u001b[0m 5ms/step - accuracy: 0.3928 - loss: 2.6827 - val_accuracy: 0.7066 - val_loss: 1.5091\n",
      "Epoch 2/30\n",
      "\u001b[1m472/472\u001b[0m \u001b[32m━━━━━━━━━━━━━━━━━━━━\u001b[0m\u001b[37m\u001b[0m \u001b[1m2s\u001b[0m 4ms/step - accuracy: 0.7764 - loss: 1.1960 - val_accuracy: 0.7369 - val_loss: 1.0384\n",
      "Epoch 3/30\n",
      "\u001b[1m472/472\u001b[0m \u001b[32m━━━━━━━━━━━━━━━━━━━━\u001b[0m\u001b[37m\u001b[0m \u001b[1m2s\u001b[0m 4ms/step - accuracy: 0.8553 - loss: 0.6922 - val_accuracy: 0.7451 - val_loss: 0.9123\n",
      "Epoch 4/30\n",
      "\u001b[1m472/472\u001b[0m \u001b[32m━━━━━━━━━━━━━━━━━━━━\u001b[0m\u001b[37m\u001b[0m \u001b[1m2s\u001b[0m 4ms/step - accuracy: 0.9109 - loss: 0.4629 - val_accuracy: 0.7541 - val_loss: 0.8659\n",
      "Epoch 5/30\n",
      "\u001b[1m472/472\u001b[0m \u001b[32m━━━━━━━━━━━━━━━━━━━━\u001b[0m\u001b[37m\u001b[0m \u001b[1m2s\u001b[0m 4ms/step - accuracy: 0.9361 - loss: 0.3262 - val_accuracy: 0.7565 - val_loss: 0.8517\n",
      "Epoch 6/30\n",
      "\u001b[1m472/472\u001b[0m \u001b[32m━━━━━━━━━━━━━━━━━━━━\u001b[0m\u001b[37m\u001b[0m \u001b[1m2s\u001b[0m 4ms/step - accuracy: 0.9533 - loss: 0.2465 - val_accuracy: 0.7517 - val_loss: 0.8554\n",
      "Epoch 7/30\n",
      "\u001b[1m472/472\u001b[0m \u001b[32m━━━━━━━━━━━━━━━━━━━━\u001b[0m\u001b[37m\u001b[0m \u001b[1m2s\u001b[0m 4ms/step - accuracy: 0.9648 - loss: 0.1901 - val_accuracy: 0.7480 - val_loss: 0.8614\n",
      "Epoch 8/30\n",
      "\u001b[1m472/472\u001b[0m \u001b[32m━━━━━━━━━━━━━━━━━━━━\u001b[0m\u001b[37m\u001b[0m \u001b[1m2s\u001b[0m 4ms/step - accuracy: 0.9685 - loss: 0.1567 - val_accuracy: 0.7467 - val_loss: 0.8813\n"
     ]
    },
    {
     "data": {
      "text/plain": [
       "<keras.src.callbacks.history.History at 0x31621ef20>"
      ]
     },
     "execution_count": 5,
     "metadata": {},
     "output_type": "execute_result"
    }
   ],
   "source": [
    "# Обучаем модель\n",
    "model = keras.Sequential([\n",
    "    keras.layers.Input(shape=(X_train_vec.shape[1],)),\n",
    "    keras.layers.Dense(64, activation='relu'),\n",
    "    keras.layers.Dropout(0.1),\n",
    "    keras.layers.Dense(20, activation='softmax')\n",
    "])\n",
    "model.compile(loss='sparse_categorical_crossentropy', optimizer='adam', metrics=['accuracy'])\n",
    "model.fit(\n",
    "    X_train_vec.toarray(), y_train,\n",
    "    epochs=30, validation_data=(X_test_vec.toarray(), y_test),\n",
    "    callbacks=EarlyStopping(monitor='val_loss', patience=3, restore_best_weights=True)\n",
    ")"
   ]
  },
  {
   "cell_type": "markdown",
   "id": "92d8ceee-9561-4d61-8da9-8067db16acc2",
   "metadata": {},
   "source": [
    "### Итоги обучения модели\n",
    "\n",
    "#### Финальная модель\n",
    "Простая нейросеть с одним скрытым слоем обладает высокой метрикой выше 0.9 на тренировочной выборке и относительно невысокой метрикой 0.75 на тестовой выборке, что говорит о переобучении модели.\n",
    "\n",
    "#### Борьба с переобучением\n",
    "Основная сложность при обучении модели в заданных условиях - переобучение. Возможно, это связано с выбранным методом векторизации текстов (TF-IDF может быть достаточно грубым, так как не предусматривает логической связи между словами). \n",
    "\n",
    "В финальной версии модели для борьбы с переобучением была использована регуляризация - Dropout и ранняя остановка обучения при 3 эпохах без улучшения accuracy. \n",
    "\n",
    "В предыдущих версиях вручную были проверены:\n",
    "- модели с более сложной архитектурой (512-256-128-64; 256-128-64;128-64 нейронов - accuracy не выше 0.7 на валидационной выборке, из-за быстрого переобучения) в комбинации с L2 регуляризацией и Dropout(0.1-0.7);\n",
    "- модели с финальной архитектурой в комбинации с L2 регуляризацией и Dropout (accuracy не выше 0.73 на валидационной выборке);\n",
    "- векторизаторы с разными ограничениями на максимальное количество признаков (5000, 7000, 10000, 12000, 15000, 20000), в том числе с биграммами;\n",
    "- модели с меньшим количеством нейронов в скрытых слоях плохо предсказывают тексты и сильно переобучаются (accuracy не выше 0.63-0.65 из-за быстрого переобучения);\n",
    "\n",
    "В результате было принято решение остановиться на архитектуре с одним скрытым слоем и 64 нейронами, так как такая модель показала лучший результат на валидационной выборке - 0.75.\n",
    "\n",
    "#### Потенциальные точки для улучшения модели\n",
    "Модель, использующая данные, обработанные векторизатором BERT, может показать результат лучше, в сравнении с TF-IDF, так как BERT способна уловить семантический смысл предложений и словосочетаний."
   ]
  },
  {
   "cell_type": "markdown",
   "id": "a0941623-7eb9-4ecf-a1a7-5254a35f5134",
   "metadata": {},
   "source": [
    "### Анализ ошибок модели\n",
    "Изучим основные метрики для каждого класса"
   ]
  },
  {
   "cell_type": "code",
   "execution_count": 6,
   "id": "32452488-ad39-4f6f-a5bf-201395630488",
   "metadata": {},
   "outputs": [
    {
     "name": "stdout",
     "output_type": "stream",
     "text": [
      "\u001b[1m118/118\u001b[0m \u001b[32m━━━━━━━━━━━━━━━━━━━━\u001b[0m\u001b[37m\u001b[0m \u001b[1m0s\u001b[0m 807us/step\n",
      "                          precision    recall  f1-score   support\n",
      "\n",
      "             alt.atheism       0.67      0.64      0.65       160\n",
      "           comp.graphics       0.77      0.75      0.76       195\n",
      " comp.os.ms-windows.misc       0.71      0.69      0.70       197\n",
      "comp.sys.ibm.pc.hardware       0.67      0.67      0.67       196\n",
      "   comp.sys.mac.hardware       0.76      0.74      0.75       193\n",
      "          comp.windows.x       0.87      0.86      0.86       198\n",
      "            misc.forsale       0.82      0.75      0.78       195\n",
      "               rec.autos       0.51      0.84      0.63       198\n",
      "         rec.motorcycles       0.84      0.68      0.75       199\n",
      "      rec.sport.baseball       0.88      0.84      0.86       199\n",
      "        rec.sport.hockey       0.95      0.89      0.91       200\n",
      "               sci.crypt       0.86      0.81      0.84       198\n",
      "         sci.electronics       0.71      0.79      0.75       197\n",
      "                 sci.med       0.82      0.81      0.81       198\n",
      "               sci.space       0.87      0.76      0.81       197\n",
      "  soc.religion.christian       0.75      0.84      0.79       199\n",
      "      talk.politics.guns       0.70      0.73      0.71       182\n",
      "   talk.politics.mideast       0.90      0.79      0.84       188\n",
      "      talk.politics.misc       0.63      0.68      0.65       155\n",
      "      talk.religion.misc       0.55      0.41      0.47       126\n",
      "\n",
      "                accuracy                           0.76      3770\n",
      "               macro avg       0.76      0.75      0.75      3770\n",
      "            weighted avg       0.77      0.76      0.76      3770\n",
      "\n"
     ]
    }
   ],
   "source": [
    "# Предсказываем вероятности\n",
    "y_test_predicted_probas = model.predict(X_test_vec.toarray())\n",
    "# Назначаем классы в соответствии с вероятностями\n",
    "y_test_predicted = np.argmax(y_test_predicted_probas,axis=1)\n",
    "\n",
    "\n",
    "# Строим итоговую таблицу с метриками\n",
    "print(classification_report(y_test, y_test_predicted, target_names=data.target_names))"
   ]
  },
  {
   "cell_type": "markdown",
   "id": "7af5af4b-1514-4049-b42d-ea09e977268b",
   "metadata": {},
   "source": [
    "Некоторые редкие темы обладают относительно низкой recall и f1, что влияет в том числе и на общую accuracy: например, talk.religion.misc и alt.atheism. Так как таких текстов меньше чем обычно и их метрики не нулевые, можем считать, что модель не игнорирует редкие классы. Для улучшения можно дополнить датасет новостями на эти темы, особенно talk.religion.misc.\n",
    "\n",
    "У основных и наиболее распространенных тем: rec.sport.hockey, comp.windows.x, и других, метрики recall и f1 выше 0.85, это отличный результат.\n",
    "\n",
    "В целом, общий результат работы модели с учетом использования простой неросети и TF-IDF можно считать отличным."
   ]
  },
  {
   "cell_type": "markdown",
   "id": "ef9021f7-2f3d-48f0-8f0f-b62d0bae9f01",
   "metadata": {},
   "source": [
    "## Технический блок проекта"
   ]
  },
  {
   "cell_type": "code",
   "execution_count": 7,
   "id": "89d3bdc9-7d28-48b9-be3e-ad5e316e459b",
   "metadata": {},
   "outputs": [],
   "source": [
    "# Сохраняем предобученный векторизатор и модель\n",
    "joblib.dump(vectorizer, 'my_vectorizer.pkl')\n",
    "model.save('my_model.keras')\n",
    "\n",
    "\n",
    "# Нам понадобится файл с сохраненными категориями, поэтому соберем его\n",
    "categories = data.target_names\n",
    "with open('categories.json', 'w', encoding='utf-8') as f:\n",
    "    json.dump(categories, f, ensure_ascii=False, indent=2)"
   ]
  }
 ],
 "metadata": {
  "kernelspec": {
   "display_name": "Python 3 (ipykernel)",
   "language": "python",
   "name": "python3"
  },
  "language_info": {
   "codemirror_mode": {
    "name": "ipython",
    "version": 3
   },
   "file_extension": ".py",
   "mimetype": "text/x-python",
   "name": "python",
   "nbconvert_exporter": "python",
   "pygments_lexer": "ipython3",
   "version": "3.10.16"
  }
 },
 "nbformat": 4,
 "nbformat_minor": 5
}
